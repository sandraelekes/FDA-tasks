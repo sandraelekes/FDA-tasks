{
 "cells": [
  {
   "cell_type": "markdown",
   "metadata": {},
   "source": [
    "# Task assessments 2020"
   ]
  },
  {
   "cell_type": "markdown",
   "metadata": {},
   "source": [
    "***"
   ]
  },
  {
   "cell_type": "markdown",
   "metadata": {},
   "source": [
    "## Task 1\n",
    "***"
   ]
  },
  {
   "cell_type": "markdown",
   "metadata": {},
   "source": [
    "Write a Python function called counts that takes a list as\n",
    "input and returns a dictionary of unique items in the list as keys and the number of\n",
    "times each item appears as values. So, the input ['A', 'A', 'B', 'C', 'A']\n",
    "should have output {'A': 3, 'B': 1, 'C': 1} . Your code should not depend\n",
    "on any module from the standard library or otherwise. You should research\n",
    "the task first and include a description with references of your algorithm in the\n",
    "notebook. [1]"
   ]
  },
  {
   "cell_type": "markdown",
   "metadata": {},
   "source": [
    "***"
   ]
  },
  {
   "cell_type": "markdown",
   "metadata": {},
   "source": [
    "### Solution:\n",
    "***"
   ]
  },
  {
   "cell_type": "markdown",
   "metadata": {},
   "source": [
    "First step is taking input and putting it into a list. For first try, input data type is default which is string."
   ]
  },
  {
   "cell_type": "code",
   "execution_count": 1,
   "metadata": {},
   "outputs": [
    {
     "name": "stdout",
     "output_type": "stream",
     "text": [
      "Enter the list items separated with spaces: 5 9 9 9 8 7 7 6 4 3\n"
     ]
    }
   ],
   "source": [
    "# split() method used for separating items by whitespace.\n",
    "\n",
    "user_list = input(\"Enter the list items separated with spaces: \").split()"
   ]
  },
  {
   "cell_type": "code",
   "execution_count": 2,
   "metadata": {},
   "outputs": [
    {
     "name": "stdout",
     "output_type": "stream",
     "text": [
      "Your list:  ['5', '9', '9', '9', '8', '7', '7', '6', '4', '3']\n"
     ]
    }
   ],
   "source": [
    "# Printing the list to check if output is correct.\n",
    "\n",
    "print (\"Your list: \", user_list)"
   ]
  },
  {
   "cell_type": "markdown",
   "metadata": {},
   "source": [
    "***"
   ]
  },
  {
   "cell_type": "markdown",
   "metadata": {},
   "source": [
    "Next step is creating a dictionary which gives an output of number of\n",
    "times each item appears in list. [2] \\\n",
    "This was done with dictionary comprehension. "
   ]
  },
  {
   "cell_type": "code",
   "execution_count": 6,
   "metadata": {},
   "outputs": [],
   "source": [
    "# Creating dictionary with dictionary comprehension\n",
    "\n",
    "out_dict = {item:user_list.count(item) for item in user_list}"
   ]
  },
  {
   "cell_type": "code",
   "execution_count": 7,
   "metadata": {},
   "outputs": [
    {
     "name": "stdout",
     "output_type": "stream",
     "text": [
      "{'5': 1, '9': 3, '8': 1, '7': 2, '6': 1, '4': 1, '3': 1}\n"
     ]
    }
   ],
   "source": [
    "# Printing the dictionary to check if the output is correct.\n",
    "\n",
    "print (out_dict)"
   ]
  },
  {
   "cell_type": "markdown",
   "metadata": {},
   "source": [
    "***"
   ]
  },
  {
   "cell_type": "markdown",
   "metadata": {},
   "source": [
    "Final step and a main task is creating a function called counts () that takes list as an input and outputs a dictionary. "
   ]
  },
  {
   "cell_type": "code",
   "execution_count": 8,
   "metadata": {},
   "outputs": [
    {
     "name": "stdout",
     "output_type": "stream",
     "text": [
      "{'5': 1, '9': 3, '8': 1, '7': 2, '6': 1, '4': 1, '3': 1}\n"
     ]
    }
   ],
   "source": [
    "def counts(user_list):\n",
    "    out_dict = {item:user_list.count(item) for item in user_list}\n",
    "    return out_dict\n",
    "print(counts(user_list))"
   ]
  },
  {
   "cell_type": "markdown",
   "metadata": {},
   "source": [
    "#### References:\n",
    "***"
   ]
  },
  {
   "cell_type": "markdown",
   "metadata": {},
   "source": [
    "[1] Ian McLoughlin, \"Tasks 2020\", https://learnonline.gmit.ie/mod/url/view.php?id=102071 \\\n",
    "[2] Finxter, \"Python list.count()\", https://blog.finxter.com/python-list-count/"
   ]
  }
 ],
 "metadata": {
  "kernelspec": {
   "display_name": "Python 3",
   "language": "python",
   "name": "python3"
  },
  "language_info": {
   "codemirror_mode": {
    "name": "ipython",
    "version": 3
   },
   "file_extension": ".py",
   "mimetype": "text/x-python",
   "name": "python",
   "nbconvert_exporter": "python",
   "pygments_lexer": "ipython3",
   "version": "3.8.3"
  }
 },
 "nbformat": 4,
 "nbformat_minor": 4
}
